{
 "cells": [
  {
   "cell_type": "markdown",
   "metadata": {},
   "source": [
    "## POI ID\n",
    "#### Udacity Data Analyst Nanodegree\n",
    "#### Final Project\n",
    "\n",
    "The goal of this project is to identify the persons of interest related to collapse of Enron in 2002. These POIs perpetrated widespread corporate accounting fraud to hide billions of dollars in debt from failed deals and projects."
   ]
  },
  {
   "cell_type": "markdown",
   "metadata": {},
   "source": [
    "### 1. Define packages and import Enron data"
   ]
  },
  {
   "cell_type": "code",
   "execution_count": 1,
   "metadata": {
    "collapsed": false
   },
   "outputs": [
    {
     "name": "stderr",
     "output_type": "stream",
     "text": [
      "C:\\Users\\pneupane\\AppData\\Local\\Continuum\\Anaconda2\\lib\\site-packages\\sklearn\\cross_validation.py:41: DeprecationWarning: This module was deprecated in version 0.18 in favor of the model_selection module into which all the refactored classes and functions are moved. Also note that the interface of the new CV iterators are different from that of this module. This module will be removed in 0.20.\n",
      "  \"This module will be removed in 0.20.\", DeprecationWarning)\n",
      "C:\\Users\\pneupane\\AppData\\Local\\Continuum\\Anaconda2\\lib\\site-packages\\sklearn\\grid_search.py:42: DeprecationWarning: This module was deprecated in version 0.18 in favor of the model_selection module into which all the refactored classes and functions are moved. This module will be removed in 0.20.\n",
      "  DeprecationWarning)\n"
     ]
    }
   ],
   "source": [
    "#!/usr/bin/python\n",
    "# Import packages\n",
    "import sys\n",
    "import pickle\n",
    "import numpy\n",
    "import matplotlib.pyplot as plt\n",
    "from sklearn.model_selection import train_test_split\n",
    "from sklearn.grid_search import GridSearchCV\n",
    "from sklearn.pipeline import Pipeline\n",
    "from sklearn.metrics import classification_report\n",
    "from sklearn.metrics import confusion_matrix\n",
    "from sklearn.decomposition import PCA\n",
    "from sklearn.svm import SVC\n",
    "sys.path.append(\"../tools/\")\n",
    "\n",
    "from feature_format import featureFormat, targetFeatureSplit\n",
    "from tester import dump_classifier_and_data\n",
    "\n",
    "\n",
    "### Task 1: Select what features you'll use.\n",
    "### features_list is a list of strings, each of which is a feature name.\n",
    "### The first feature must be \"poi\".\n",
    "\n",
    "### Load the dictionary containing the dataset\n",
    "with open(\"final_project_dataset.pkl\", \"r\") as data_file:\n",
    "    data_dict = pickle.load(data_file)\n",
    "    \n"
   ]
  },
  {
   "cell_type": "markdown",
   "metadata": {},
   "source": [
    "#### Create a list of initial features"
   ]
  },
  {
   "cell_type": "code",
   "execution_count": 3,
   "metadata": {
    "collapsed": false
   },
   "outputs": [
    {
     "name": "stdout",
     "output_type": "stream",
     "text": [
      "['poi', 'salary', 'to_messages', 'deferral_payments', 'total_payments', 'exercised_stock_options', 'bonus', 'restricted_stock', 'shared_receipt_with_poi', 'restricted_stock_deferred', 'total_stock_value', 'expenses', 'loan_advances', 'from_messages', 'other', 'from_this_person_to_poi', 'director_fees', 'deferred_income', 'long_term_incentive', 'from_poi_to_this_person']\n"
     ]
    }
   ],
   "source": [
    "# all feature list\n",
    "features_list = data_dict['ALLEN PHILLIP K'].keys()\n",
    "\n",
    "# Remove email address & Add poi at beginning of list\n",
    "features_list.remove('email_address')\n",
    "features_list.remove('poi')\n",
    "features_list.insert(0,'poi')\n",
    "print features_list"
   ]
  },
  {
   "cell_type": "markdown",
   "metadata": {},
   "source": [
    "#### Split dataset into labels and features"
   ]
  },
  {
   "cell_type": "code",
   "execution_count": 5,
   "metadata": {
    "collapsed": false
   },
   "outputs": [
    {
     "name": "stdout",
     "output_type": "stream",
     "text": [
      "Dim Features:  145 19\n",
      "Dim labels:  145\n",
      "Numpy Array features and labels:  (145L, 19L) (145L,)\n"
     ]
    }
   ],
   "source": [
    "### Store to my_dataset for easy export below.\n",
    "my_dataset = data_dict\n",
    "\n",
    "### Extract features and labels from dataset for local testing\n",
    "data = featureFormat(my_dataset, features_list, sort_keys = True)\n",
    "labels, features = targetFeatureSplit(data)\n",
    "print 'Dim Features: ',len(features), len(features[0])\n",
    "print 'Dim labels: ',len(labels)\n",
    "\n",
    "\n",
    "# Convert list to numpy array\n",
    "features = numpy.asarray(features)\n",
    "labels = numpy.asarray(labels)\n",
    "print 'Numpy Array features and labels: ',features.shape, labels.shape"
   ]
  },
  {
   "cell_type": "code",
   "execution_count": 40,
   "metadata": {
    "collapsed": false
   },
   "outputs": [
    {
     "data": {
      "text/plain": [
       "{'bonus': 64,\n",
       " 'deferral_payments': 107,\n",
       " 'deferred_income': 97,\n",
       " 'director_fees': 129,\n",
       " 'email_address': 35,\n",
       " 'exercised_stock_options': 44,\n",
       " 'expenses': 51,\n",
       " 'from_messages': 60,\n",
       " 'from_poi_to_this_person': 60,\n",
       " 'from_this_person_to_poi': 60,\n",
       " 'loan_advances': 142,\n",
       " 'long_term_incentive': 80,\n",
       " 'other': 53,\n",
       " 'poi': 0,\n",
       " 'restricted_stock': 36,\n",
       " 'restricted_stock_deferred': 128,\n",
       " 'salary': 51,\n",
       " 'shared_receipt_with_poi': 60,\n",
       " 'to_messages': 60,\n",
       " 'total_payments': 21,\n",
       " 'total_stock_value': 20}"
      ]
     },
     "execution_count": 40,
     "metadata": {},
     "output_type": "execute_result"
    }
   ],
   "source": [
    "# Missing values in the datasets\n",
    "count=1\n",
    "count_nans={}\n",
    "for k,v in my_dataset.iteritems():\n",
    "    #print k\n",
    "    for j,k in v.iteritems(): \n",
    "        #print j,k\n",
    "        if count==1:            \n",
    "            count_nans[j]=0\n",
    "            \n",
    "        # Define lists\n",
    "        if k=='NaN':\n",
    "            count_nans[j]+=1\n",
    "            #print count_nans\n",
    "    count+=1\n",
    "    \n",
    "count_nans      \n",
    "        \n",
    "    "
   ]
  },
  {
   "cell_type": "markdown",
   "metadata": {},
   "source": [
    "### 2. Remove Outliers\n",
    "\n",
    "Create plots for some attributes to find outliers."
   ]
  },
  {
   "cell_type": "code",
   "execution_count": 6,
   "metadata": {
    "collapsed": false,
    "scrolled": true
   },
   "outputs": [
    {
     "data": {
      "image/png": "[encoded data removed]",
      "text/plain": [
       "<matplotlib.figure.Figure at 0x9f05e10>"
      ]
     },
     "metadata": {},
     "output_type": "display_data"
    }
   ],
   "source": [
    "# look for large outliers from the data\n",
    "plt.scatter(features[:,4], features[:,3])\n",
    "plt.xlabel(\"exercised_stock_options\")\n",
    "plt.ylabel(\"total_payments\")\n",
    "plt.show()"
   ]
  },
  {
   "cell_type": "markdown",
   "metadata": {},
   "source": [
    "There seems to be large outlier in the data. In the next step, we simply remove that outlier."
   ]
  },
  {
   "cell_type": "code",
   "execution_count": 7,
   "metadata": {
    "collapsed": false
   },
   "outputs": [
    {
     "name": "stdout",
     "output_type": "stream",
     "text": [
      "Outlier index:  129\n",
      "Dim of features and lables before removing outlier:  (145L, 19L) (145L,)\n",
      "Dim of features and lables after removing outlier:  (144L, 19L) (144L,)\n"
     ]
    }
   ],
   "source": [
    "# Extract index of large value for exercised stock options and delete it\n",
    "outlier = numpy.where(features[:,4] == features[:,4].max())[0][0]\n",
    "print 'Outlier index: ',outlier\n",
    "\n",
    "### Task 2: Remove outliers\n",
    "print 'Dim of features and lables before removing outlier: ',features.shape,labels.shape\n",
    "features = numpy.delete(features,outlier, axis=0)\n",
    "labels = numpy.delete(labels,outlier, axis=0)\n",
    "print 'Dim of features and lables after removing outlier: ',features.shape,labels.shape"
   ]
  },
  {
   "cell_type": "code",
   "execution_count": 8,
   "metadata": {
    "collapsed": false
   },
   "outputs": [
    {
     "data": {
      "image/png": "[encoded data removed]",
      "text/plain": [
       "<matplotlib.figure.Figure at 0xa1a8198>"
      ]
     },
     "metadata": {},
     "output_type": "display_data"
    }
   ],
   "source": [
    "# Check if large outliers from the data is removed\n",
    "plt.scatter(features[:,4], features[:,3])\n",
    "plt.xlabel(\"exercised_stock_options\")\n",
    "plt.ylabel(\"total_payments\")\n",
    "plt.show()"
   ]
  },
  {
   "cell_type": "markdown",
   "metadata": {},
   "source": [
    "### 3. Identify and keep important features\n",
    "\n",
    "Next, run a decision tree on the entire dataset to identify important features. Only those features with importance score > .05 is kept"
   ]
  },
  {
   "cell_type": "code",
   "execution_count": 9,
   "metadata": {
    "collapsed": false
   },
   "outputs": [
    {
     "name": "stdout",
     "output_type": "stream",
     "text": [
      "salary :     0.0\n",
      "to_messages :     0.0\n",
      "deferral_payments :     0.0\n",
      "total_payments :     0.112874779541\n",
      "exercised_stock_options :     0.231746031746\n",
      "bonus :     0.109451528031\n",
      "restricted_stock :     0.120480432567\n",
      "shared_receipt_with_poi :     0.0577200577201\n",
      "restricted_stock_deferred :     0.0\n",
      "total_stock_value :     0.0\n",
      "expenses :     0.117875473623\n",
      "loan_advances :     0.0\n",
      "from_messages :     0.0\n",
      "other :     0.138852968951\n",
      "from_this_person_to_poi :     0.0554431722656\n",
      "director_fees :     0.0\n",
      "deferred_income :     0.0\n",
      "long_term_incentive :     0.0\n",
      "from_poi_to_this_person :     0.0555555555556\n",
      "\n",
      "Kept features ----------> ['poi', 'total_payments', 'exercised_stock_options', 'bonus', 'restricted_stock', 'shared_receipt_with_poi', 'expenses', 'other', 'from_this_person_to_poi', 'from_poi_to_this_person', 'from_messages', 'to_messages']\n"
     ]
    }
   ],
   "source": [
    "# Look for important variables using decision tree \n",
    "# Note that this step is done to recognise important varaible that we want\n",
    "# check outliers for\n",
    "from sklearn.model_selection import cross_val_score\n",
    "from sklearn.tree import DecisionTreeClassifier\n",
    "dtc = DecisionTreeClassifier(random_state=42)\n",
    "dtc.fit(features, labels)\n",
    "\n",
    "features_list1=[]\n",
    "for i,j in zip(features_list[1:],numpy.ndenumerate(dtc.feature_importances_)):\n",
    "    print i,':    ', j[1]    \n",
    "    # Keep all features with importance > .05\n",
    "    if j[1]>.05:\n",
    "        features_list1.append(i)\n",
    "    \n",
    "# Append poi in the beginning\n",
    "features_list1.insert(0,'poi')\n",
    "# Append to and from messages at the end\n",
    "features_list1.append('from_messages')\n",
    "features_list1.append('to_messages')\n",
    "print ''\n",
    "print 'Kept features ---------->',features_list1\n",
    "    \n",
    "    "
   ]
  },
  {
   "cell_type": "markdown",
   "metadata": {},
   "source": [
    "#### Recreate the dataset using important features selected"
   ]
  },
  {
   "cell_type": "code",
   "execution_count": 10,
   "metadata": {
    "collapsed": false
   },
   "outputs": [
    {
     "name": "stdout",
     "output_type": "stream",
     "text": [
      "Dim of features and labels with important features only:  (144L, 11L) (144L, 1L)\n"
     ]
    }
   ],
   "source": [
    "### ReExtract features and labels from dataset using the most important feature list\n",
    "data = featureFormat(my_dataset, features_list1, sort_keys = True)\n",
    "labels, features = targetFeatureSplit(data)\n",
    "\n",
    "# Convert list to numpy array\n",
    "features = numpy.asarray(features)\n",
    "labels = numpy.asarray(labels)\n",
    "labels = numpy.reshape(labels,(len(labels),1))\n",
    "\n",
    "### Remove outliers\n",
    "# Extract index of large value for exercised stock options and delete it\n",
    "outlier = numpy.where(features[:,1] == features[:,1].max())[0][0]\n",
    "\n",
    "# Remove outliers\n",
    "features = numpy.delete(features,outlier, axis=0)\n",
    "labels = numpy.delete(labels,outlier, axis=0)\n",
    "print 'Dim of features and labels with important features only: ',features.shape, labels.shape\n"
   ]
  },
  {
   "cell_type": "markdown",
   "metadata": {},
   "source": [
    "### 4. Create new features\n",
    "\n",
    "Based on the importance of features, and the domain knowledge, I decided to create following new features:\n",
    "\n",
    "* **ratio_bonus_to_ex_stock:** ratio of bonus to exercised_stock_options\n",
    "* **from_this_person_to_poi_pctof_from:** from_this_person_to_poi as % of from_messages\n",
    "* **from_poi_to_this_person_pctof_to:** from_poi_to_this_person as % of to_messages\n",
    "* **ratio_restrc_stock_to_total_pmnt:** ratio of restricted_stock to total_payments \n",
    "* **ratio_ex_stock_to_total_pmnt:** ratio of exercised_stock_options to total_payments\n"
   ]
  },
  {
   "cell_type": "code",
   "execution_count": 11,
   "metadata": {
    "collapsed": false
   },
   "outputs": [
    {
     "name": "stdout",
     "output_type": "stream",
     "text": [
      "List of label and all features incl. new ones: \n",
      "           poi\n",
      "           total_payments\n",
      "           exercised_stock_options\n",
      "           bonus\n",
      "           restricted_stock\n",
      "           shared_receipt_with_poi\n",
      "           expenses\n",
      "           other\n",
      "           from_this_person_to_poi\n",
      "           from_poi_to_this_person\n",
      "           from_messages\n",
      "           to_messages\n",
      "           ratio_bonus_to_ex_stock\n",
      "           from_this_person_to_poi_pctof_from\n",
      "           from_poi_to_this_person_pctof_to\n",
      "           ratio_restrc_stock_to_total_pmnt\n",
      "           ratio_ex_stock_to_total_pmnt\n",
      "Number of label and all features incl. new ones:  17\n",
      "--------------------------------\n"
     ]
    },
    {
     "name": "stderr",
     "output_type": "stream",
     "text": [
      "C:\\Users\\pneupane\\AppData\\Local\\Continuum\\Anaconda2\\lib\\site-packages\\ipykernel\\__main__.py:7: RuntimeWarning: divide by zero encountered in divide\n",
      "C:\\Users\\pneupane\\AppData\\Local\\Continuum\\Anaconda2\\lib\\site-packages\\ipykernel\\__main__.py:7: RuntimeWarning: invalid value encountered in divide\n",
      "C:\\Users\\pneupane\\AppData\\Local\\Continuum\\Anaconda2\\lib\\site-packages\\ipykernel\\__main__.py:14: RuntimeWarning: invalid value encountered in divide\n",
      "C:\\Users\\pneupane\\AppData\\Local\\Continuum\\Anaconda2\\lib\\site-packages\\ipykernel\\__main__.py:21: RuntimeWarning: invalid value encountered in divide\n",
      "C:\\Users\\pneupane\\AppData\\Local\\Continuum\\Anaconda2\\lib\\site-packages\\ipykernel\\__main__.py:28: RuntimeWarning: divide by zero encountered in divide\n",
      "C:\\Users\\pneupane\\AppData\\Local\\Continuum\\Anaconda2\\lib\\site-packages\\ipykernel\\__main__.py:28: RuntimeWarning: invalid value encountered in divide\n",
      "C:\\Users\\pneupane\\AppData\\Local\\Continuum\\Anaconda2\\lib\\site-packages\\ipykernel\\__main__.py:35: RuntimeWarning: divide by zero encountered in divide\n",
      "C:\\Users\\pneupane\\AppData\\Local\\Continuum\\Anaconda2\\lib\\site-packages\\ipykernel\\__main__.py:35: RuntimeWarning: invalid value encountered in divide\n"
     ]
    }
   ],
   "source": [
    "### Task 3: Create new feature(s)\n",
    "\n",
    "def new_features(ds):\n",
    "    \n",
    "    # ratio of bonus to exercised stock options\n",
    "    ratio_bonus_to_ex_stock = 0\n",
    "    ratio_bonus_to_ex_stock = ds[:,2]/ds[:,1]\n",
    "    ratio_bonus_to_ex_stock[numpy.isnan(ratio_bonus_to_ex_stock)] = 0 # Remove nan\n",
    "    ratio_bonus_to_ex_stock[numpy.isinf(ratio_bonus_to_ex_stock)] = 0 # Remove infinity\n",
    "    ratio_bonus_to_ex_stock = numpy.reshape(ratio_bonus_to_ex_stock,(len(ratio_bonus_to_ex_stock),1)) # Reshape Array\n",
    "    \n",
    "    # from_this_person_to_poi as % of from_messages\n",
    "    from_this_person_to_poi_pctof_from = 0\n",
    "    from_this_person_to_poi_pctof_from = ds[:,7]/ds[:,9]\n",
    "    from_this_person_to_poi_pctof_from[numpy.isnan(from_this_person_to_poi_pctof_from)] = 0 # Remove nan\n",
    "    from_this_person_to_poi_pctof_from[numpy.isinf(from_this_person_to_poi_pctof_from)] = 0 # Remove infinity\n",
    "    from_this_person_to_poi_pctof_from = numpy.reshape(from_this_person_to_poi_pctof_from,(len(from_this_person_to_poi_pctof_from),1)) # Reshape Array\n",
    "    \n",
    "    # from_poi_to_this_person as % of to_messages\n",
    "    from_poi_to_this_person_pctof_to = 0\n",
    "    from_poi_to_this_person_pctof_to = ds[:,8]/ds[:,10]\n",
    "    from_poi_to_this_person_pctof_to[numpy.isnan(from_poi_to_this_person_pctof_to)] = 0 # Remove nan\n",
    "    from_poi_to_this_person_pctof_to[numpy.isinf(from_poi_to_this_person_pctof_to)] = 0 # Remove infinity\n",
    "    from_poi_to_this_person_pctof_to = numpy.reshape(from_poi_to_this_person_pctof_to,(len(from_poi_to_this_person_pctof_to),1)) # Reshape Array\n",
    "    \n",
    "    # ratio of restricted_stock to total_payments\n",
    "    ratio_restrc_stock_to_total_pmnt = 0\n",
    "    ratio_restrc_stock_to_total_pmnt = ds[:,3]/ds[:,0]\n",
    "    ratio_restrc_stock_to_total_pmnt[numpy.isnan(ratio_restrc_stock_to_total_pmnt)] = 0 # Remove nan\n",
    "    ratio_restrc_stock_to_total_pmnt[numpy.isinf(ratio_restrc_stock_to_total_pmnt)] = 0 # Remove infinity\n",
    "    ratio_restrc_stock_to_total_pmnt = numpy.reshape(ratio_restrc_stock_to_total_pmnt,(len(ratio_restrc_stock_to_total_pmnt),1)) # Reshape Array\n",
    "    \n",
    "    # ratio of exercised_stock_options to total_payments\n",
    "    ratio_ex_stock_to_total_pmnt = 0\n",
    "    ratio_ex_stock_to_total_pmnt = ds[:,1]/ds[:,0]\n",
    "    ratio_ex_stock_to_total_pmnt[numpy.isnan(ratio_ex_stock_to_total_pmnt)] = 0 # Remove nan\n",
    "    ratio_ex_stock_to_total_pmnt[numpy.isinf(ratio_ex_stock_to_total_pmnt)] = 0 # Remove infinity\n",
    "    ratio_ex_stock_to_total_pmnt = numpy.reshape(ratio_ex_stock_to_total_pmnt,(len(ratio_ex_stock_to_total_pmnt),1)) # Reshape Array\n",
    "    \n",
    "    # Concatenate new features\n",
    "    return numpy.concatenate((ds,ratio_bonus_to_ex_stock,from_this_person_to_poi_pctof_from,from_poi_to_this_person_pctof_to,ratio_restrc_stock_to_total_pmnt,ratio_ex_stock_to_total_pmnt),axis = 1)\n",
    "    \n",
    "# Add new features to train and test sets\n",
    "features = new_features(features)\n",
    "\n",
    "# update feature list\n",
    "features_list_updt = features_list1\n",
    "features_list_updt.extend(['ratio_bonus_to_ex_stock', 'from_this_person_to_poi_pctof_from',\n",
    "                           'from_poi_to_this_person_pctof_to', 'ratio_restrc_stock_to_total_pmnt', \n",
    "                           'ratio_ex_stock_to_total_pmnt'])\n",
    "\n",
    "print 'List of label and all features incl. new ones: '\n",
    "for i in features_list_updt:\n",
    "    print '          ',i\n",
    "    \n",
    "print 'Number of label and all features incl. new ones: ',len(features_list_updt)\n",
    "\n",
    " \n",
    "print \"--------------------------------\"    "
   ]
  },
  {
   "cell_type": "markdown",
   "metadata": {},
   "source": [
    "#### Split the dataset with new features into train and test"
   ]
  },
  {
   "cell_type": "code",
   "execution_count": 12,
   "metadata": {
    "collapsed": false
   },
   "outputs": [
    {
     "name": "stdout",
     "output_type": "stream",
     "text": [
      "Dim of train features and labels:  (100L, 16L) (44L, 16L)\n",
      "Dim of test features and labels:  (100L, 1L) (44L, 1L)\n"
     ]
    }
   ],
   "source": [
    "# Split into test/train datasets\n",
    "features_train, features_test, labels_train, labels_test = train_test_split(features, labels, test_size=0.30, random_state=42)\n",
    "print 'Dim of train features and labels: ',features_train.shape, features_test.shape\n",
    "print 'Dim of test features and labels: ',labels_train.shape, labels_test.shape"
   ]
  },
  {
   "cell_type": "markdown",
   "metadata": {},
   "source": [
    "#### Create a dictionary with overall data to be used as input for final testing"
   ]
  },
  {
   "cell_type": "code",
   "execution_count": 13,
   "metadata": {
    "collapsed": false
   },
   "outputs": [
    {
     "name": "stdout",
     "output_type": "stream",
     "text": [
      "(144L, 17L)\n"
     ]
    }
   ],
   "source": [
    "# Combine test/train, features/labels into one dataset \n",
    "# This will later be passed to the test_classifier function\n",
    "\n",
    "#all_features = numpy.concatenate((features_train,features_test),axis = 0)\n",
    "#all_labels =  numpy.concatenate((labels_train,labels_test),axis = 0)\n",
    "\n",
    "all_ds = numpy.concatenate((labels,features), axis=1)\n",
    "print all_ds.shape\n",
    "\n",
    "# Save the data in dictionary (cannot make this work!!!)\n",
    "#d = {i: {j: v for j, v in enumerate(row) if v}\n",
    "#    for i, row in enumerate(all_ds)}\n",
    "\n",
    "# Save the data in dictionary\n",
    "f= features_list_updt\n",
    "d = {}\n",
    "for i, row in enumerate(all_ds):\n",
    "    temp = {}\n",
    "    for j, v in enumerate(row):\n",
    "            temp[f[j]] = v # Use feature list as key\n",
    "    d[i] = temp\n",
    "    "
   ]
  },
  {
   "cell_type": "markdown",
   "metadata": {},
   "source": [
    "\n",
    "### 5. Try variety of transformations and classifiers to predict the POIs\n",
    "\n",
    "Here, we use different combinations of transformations (SelectKBest, StandardScaler, PCA, etc.) and different types of classifiers (GaussianNB, SVM, RandomForestClassifier, etc,.) to select the best approach."
   ]
  },
  {
   "cell_type": "code",
   "execution_count": 15,
   "metadata": {
    "collapsed": false
   },
   "outputs": [
    {
     "name": "stdout",
     "output_type": "stream",
     "text": [
      "--------------------------------------------------------------\n",
      "GaussianNB\n",
      "--------------------------------------------------------------\n",
      "Pipeline(memory=None, steps=[('gaussiannb', GaussianNB(priors=None))])\n",
      "cv mean score:  0.1902997558\n",
      "--------------------------------------------------------------\n",
      "Test accuracy: 0.89\n",
      "Test f1: 0.44\n",
      "Test precision: 0.50\n",
      "Test recall: 0.40\n",
      "--------------------------------------------------------------\n",
      "--------------------------------------------------------------\n",
      "StandardScaler/GaussianNB\n",
      "--------------------------------------------------------------\n",
      "Pipeline(memory=None,\n",
      "     steps=[('standardscaler', StandardScaler(copy=True, with_mean=True, with_std=True)), ('gaussiannb', GaussianNB(priors=None))])\n",
      "cv mean score:  0.167954358507\n",
      "--------------------------------------------------------------\n",
      "Test accuracy: 0.84\n",
      "Test f1: 0.22\n",
      "Test precision: 0.25\n",
      "Test recall: 0.20\n",
      "--------------------------------------------------------------\n",
      "--------------------------------------------------------------\n",
      "SVM\n",
      "--------------------------------------------------------------\n",
      "Pipeline(memory=None,\n",
      "     steps=[('svc', SVC(C=10, cache_size=200, class_weight=None, coef0=0.0,\n",
      "  decision_function_shape='ovr', degree=3, gamma='auto', kernel='rbf',\n",
      "  max_iter=-1, probability=False, random_state=None, shrinking=True,\n",
      "  tol=0.001, verbose=False))])\n",
      "cv mean score:  0.0\n",
      "--------------------------------------------------------------\n",
      "Test accuracy: 0.89\n",
      "Test f1: 0.00\n",
      "Test precision: 0.00\n",
      "Test recall: 0.00\n",
      "--------------------------------------------------------------\n",
      "--------------------------------------------------------------\n",
      "StandardScaler/SVM\n"
     ]
    },
    {
     "name": "stderr",
     "output_type": "stream",
     "text": [
      "C:\\Users\\pneupane\\AppData\\Local\\Continuum\\Anaconda2\\lib\\site-packages\\sklearn\\metrics\\classification.py:1135: UndefinedMetricWarning: Precision is ill-defined and being set to 0.0 due to no predicted samples.\n",
      "  'precision', 'predicted', average, warn_for)\n",
      "C:\\Users\\pneupane\\AppData\\Local\\Continuum\\Anaconda2\\lib\\site-packages\\sklearn\\pipeline.py:259: DataConversionWarning: A column-vector y was passed when a 1d array was expected. Please change the shape of y to (n_samples,), for example using ravel().\n",
      "  self._final_estimator.fit(Xt, y, **fit_params)\n"
     ]
    },
    {
     "name": "stdout",
     "output_type": "stream",
     "text": [
      "--------------------------------------------------------------\n",
      "Pipeline(memory=None,\n",
      "     steps=[('standardscaler', StandardScaler(copy=True, with_mean=True, with_std=True)), ('svc', SVC(C=10, cache_size=200, class_weight=None, coef0=0.0,\n",
      "  decision_function_shape='ovr', degree=3, gamma='auto', kernel='rbf',\n",
      "  max_iter=-1, probability=False, random_state=None, shrinking=True,\n",
      "  tol=0.001, verbose=False))])\n",
      "cv mean score:  0.19012987013\n",
      "--------------------------------------------------------------\n",
      "Test accuracy: 0.91\n",
      "Test f1: 0.33\n",
      "Test precision: 1.00\n",
      "Test recall: 0.20\n",
      "--------------------------------------------------------------\n",
      "--------------------------------------------------------------\n",
      "RandomForestClassifier\n",
      "--------------------------------------------------------------\n",
      "Pipeline(memory=None,\n",
      "     steps=[('randomforestclassifier', RandomForestClassifier(bootstrap=True, class_weight=None, criterion='gini',\n",
      "            max_depth=None, max_features='auto', max_leaf_nodes=None,\n",
      "            min_impurity_decrease=0.0, min_impurity_split=None,\n",
      "            min_samples_leaf=1, min_samples_split=2,\n",
      "            min_weight_fraction_leaf=0.0, n_estimators=10, n_jobs=1,\n",
      "            oob_score=False, random_state=None, verbose=0,\n",
      "            warm_start=False))])\n",
      "cv mean score:  0.150365079365\n",
      "--------------------------------------------------------------\n",
      "Test accuracy: 0.89\n",
      "Test f1: 0.00\n",
      "Test precision: 0.00\n",
      "Test recall: 0.00\n",
      "--------------------------------------------------------------\n",
      "--------------------------------------------------------------\n",
      "StandardScaler/RandomForestClassifier\n",
      "--------------------------------------------------------------\n",
      "Pipeline(memory=None,\n",
      "     steps=[('standardscaler', StandardScaler(copy=True, with_mean=True, with_std=True)), ('randomforestclassifier', RandomForestClassifier(bootstrap=True, class_weight=None, criterion='gini',\n",
      "            max_depth=None, max_features='auto', max_leaf_nodes=None,\n",
      "            min_impurity_decrease=0.0, min...n_jobs=1,\n",
      "            oob_score=False, random_state=None, verbose=0,\n",
      "            warm_start=False))])\n",
      "cv mean score:  0.116634920635\n",
      "--------------------------------------------------------------\n",
      "Test accuracy: 0.89\n",
      "Test f1: 0.00\n",
      "Test precision: 0.00\n",
      "Test recall: 0.00\n",
      "--------------------------------------------------------------\n",
      "--------------------------------------------------------------\n",
      "SelectKBest/RandomForestClassifier\n",
      "--------------------------------------------------------------\n",
      "Pipeline(memory=None,\n",
      "     steps=[('selectkbest', SelectKBest(k=6, score_func=<function f_classif at 0x0000000009DC6C18>)), ('randomforestclassifier', RandomForestClassifier(bootstrap=True, class_weight=None, criterion='gini',\n",
      "            max_depth=None, max_features='auto', max_leaf_nodes=None,\n",
      "            min_impurity_decre...n_jobs=1,\n",
      "            oob_score=False, random_state=None, verbose=0,\n",
      "            warm_start=False))])\n",
      "cv mean score:  0.194005772006\n",
      "--------------------------------------------------------------\n",
      "Test accuracy: 0.91\n",
      "Test f1: 0.50\n",
      "Test precision: 0.67\n",
      "Test recall: 0.40\n",
      "--------------------------------------------------------------\n"
     ]
    },
    {
     "data": {
      "text/plain": [
       "Pipeline(memory=None,\n",
       "     steps=[('selectkbest', SelectKBest(k=6, score_func=<function f_classif at 0x0000000009DC6C18>)), ('randomforestclassifier', RandomForestClassifier(bootstrap=True, class_weight=None, criterion='gini',\n",
       "            max_depth=None, max_features='auto', max_leaf_nodes=None,\n",
       "            min_impurity_decre...n_jobs=1,\n",
       "            oob_score=False, random_state=None, verbose=0,\n",
       "            warm_start=False))])"
      ]
     },
     "execution_count": 15,
     "metadata": {},
     "output_type": "execute_result"
    }
   ],
   "source": [
    "from sklearn.pipeline import make_pipeline\n",
    "from sklearn.model_selection import ShuffleSplit\n",
    "from sklearn.naive_bayes import GaussianNB\n",
    "from sklearn.metrics import precision_score,recall_score\n",
    "from sklearn import svm\n",
    "from sklearn.ensemble import RandomForestClassifier\n",
    "from sklearn.model_selection import cross_val_score\n",
    "from sklearn import metrics\n",
    "from sklearn.preprocessing import StandardScaler\n",
    "from sklearn.cross_validation import StratifiedShuffleSplit\n",
    "from sklearn.feature_selection import SelectKBest\n",
    "\n",
    "def test_run(pipe):\n",
    "    clf = pipe.fit(features_train, labels_train)\n",
    "    cv = ShuffleSplit(n_splits=50, test_size=0.3)\n",
    "    score =  cross_val_score(clf, features_train, labels_train, cv=cv, scoring='f1')\n",
    "    \n",
    "    \n",
    "    print '--------------------------------------------------------------'\n",
    "    print pipe\n",
    "    #print 'cv f1 scores: ',score\n",
    "    print 'cv mean score: ',score.mean()\n",
    "\n",
    "    pred = clf.predict(features_test)\n",
    "\n",
    "    #########################################################\n",
    "    # Print accuracy #\n",
    "    print '--------------------------------------------------------------'\n",
    "    print 'Test accuracy: %.2f' % (float(sum(1 for ii in range(0, len(labels_test)) if labels_test[ii]==pred[ii]))/float(len(labels_test)))\n",
    "\n",
    "    # Print f1\n",
    "    print 'Test f1: %.2f' % (metrics.f1_score(labels_test,pred))\n",
    "    # Print precision\n",
    "    print 'Test precision: %.2f' % (precision_score(labels_test,pred))\n",
    "    # Print recall\n",
    "    print 'Test recall: %.2f' % (recall_score(labels_test,pred))\n",
    "    print '--------------------------------------------------------------'\n",
    "    \n",
    "    return clf\n",
    "\n",
    "print '--------------------------------------------------------------'    \n",
    "print 'GaussianNB'\n",
    "pipe = make_pipeline( GaussianNB())\n",
    "test_run(pipe)\n",
    "\n",
    "print '--------------------------------------------------------------'\n",
    "print 'StandardScaler/GaussianNB'\n",
    "pipe = make_pipeline(StandardScaler(), GaussianNB())\n",
    "test_run(pipe)\n",
    "\n",
    "print '--------------------------------------------------------------'\n",
    "print 'SVM'\n",
    "pipe = make_pipeline( svm.SVC(C=10))\n",
    "test_run(pipe)\n",
    "\n",
    "print '--------------------------------------------------------------'\n",
    "print 'StandardScaler/SVM'\n",
    "pipe = make_pipeline(StandardScaler(), svm.SVC(C=10))\n",
    "test_run(pipe)\n",
    "\n",
    "print '--------------------------------------------------------------'\n",
    "print 'RandomForestClassifier'\n",
    "pipe = make_pipeline( RandomForestClassifier())\n",
    "test_run(pipe)\n",
    "\n",
    "print '--------------------------------------------------------------'\n",
    "print 'StandardScaler/RandomForestClassifier'\n",
    "pipe = make_pipeline(StandardScaler(), RandomForestClassifier())\n",
    "test_run(pipe)\n",
    "\n",
    "print '--------------------------------------------------------------'\n",
    "print 'SelectKBest/RandomForestClassifier'\n",
    "pipe = make_pipeline( SelectKBest(k=6), RandomForestClassifier())\n",
    "test_run(pipe)\n"
   ]
  },
  {
   "cell_type": "markdown",
   "metadata": {},
   "source": [
    "Here, GaussianNB has the largest f1 value, and SelectKBest/RandomForestClassifier has second largest value. I decide to go with SelectKBest/RandomForestClassifier because it was easier to tune parameters for this combination."
   ]
  },
  {
   "cell_type": "markdown",
   "metadata": {},
   "source": [
    "### 6. Tune parameters for selected classifiers\n",
    "\n",
    "After attempting to tune several different combinations, I settled with SelectKBest/RandomForestClassifier."
   ]
  },
  {
   "cell_type": "code",
   "execution_count": 41,
   "metadata": {
    "collapsed": false
   },
   "outputs": [
    {
     "name": "stdout",
     "output_type": "stream",
     "text": [
      "GridSearchCV(cv=StratifiedShuffleSplit(labels=[[ 0.]\n",
      " [ 0.]\n",
      " ...,\n",
      " [ 0.]\n",
      " [ 0.]], n_iter=100, test_size=0.1, random_state=42),\n",
      "       error_score='raise',\n",
      "       estimator=Pipeline(memory=None,\n",
      "     steps=[('SKBfeature', SelectKBest(k=10, score_func=<function f_classif at 0x0000000009DC6C18>)), ('RFclf', RandomForestClassifier(bootstrap=True, class_weight='balanced_subsample',\n",
      "            criterion='gini', max_depth=None, max_features='auto',\n",
      "            max_leaf_nodes=None, min_impurity_decrea...imators=10, n_jobs=1, oob_score=False, random_state=None,\n",
      "            verbose=0, warm_start=False))]),\n",
      "       fit_params={}, iid=True, n_jobs=1,\n",
      "       param_grid={'RFclf__n_estimators': [20, 30, 40], 'RFclf__max_depth': [3, 5, 7], 'SKBfeature__k': [2, 4, 6]},\n",
      "       pre_dispatch='2*n_jobs', refit=True, scoring='f1', verbose=1)\n",
      "Fitting 100 folds for each of 27 candidates, totalling 2700 fits\n",
      "[(0.0, array([ 0.])), (0.0, array([ 0.])), (0.0, array([ 0.])), (0.0, array([ 0.])), (0.0, array([ 0.])), (1.0, array([ 0.])), (0.0, array([ 0.])), (0.0, array([ 1.])), (0.0, array([ 0.])), (0.0, array([ 0.])), (0.0, array([ 0.])), (0.0, array([ 0.])), (0.0, array([ 0.])), (0.0, array([ 0.])), (1.0, array([ 0.])), (1.0, array([ 0.])), (0.0, array([ 0.])), (0.0, array([ 0.])), (0.0, array([ 0.])), (0.0, array([ 0.])), (0.0, array([ 0.])), (0.0, array([ 0.])), (0.0, array([ 0.])), (0.0, array([ 0.])), (0.0, array([ 0.])), (0.0, array([ 0.])), (0.0, array([ 0.])), (0.0, array([ 0.])), (1.0, array([ 1.])), (1.0, array([ 0.])), (1.0, array([ 1.])), (0.0, array([ 0.])), (0.0, array([ 0.])), (0.0, array([ 0.])), (0.0, array([ 0.])), (0.0, array([ 0.])), (1.0, array([ 1.])), (1.0, array([ 0.])), (0.0, array([ 1.])), (0.0, array([ 0.])), (0.0, array([ 0.])), (0.0, array([ 0.])), (0.0, array([ 0.])), (0.0, array([ 0.]))]\n",
      "Accuracy: 0.84\n",
      "f1: 0.46\n",
      "Precision: 0.38\n",
      "Recall: 0.60\n"
     ]
    },
    {
     "name": "stderr",
     "output_type": "stream",
     "text": [
      "[Parallel(n_jobs=1)]: Done 2700 out of 2700 | elapsed:  3.8min finished\n"
     ]
    }
   ],
   "source": [
    "\n",
    "### Task 5: Tune your classifier to achieve better than .3 precision and recall \n",
    "### using our testing script. Check the tester.py script in the final project\n",
    "### folder for details on the evaluation method, especially the test_classifier\n",
    "### function. Because of the small size of the dataset, the script uses\n",
    "### stratified shuffle split cross validation. For more info: \n",
    "### http://scikit-learn.org/stable/modules/generated/sklearn.cross_validation.StratifiedShuffleSplit.html\n",
    "'''\n",
    "# Example starting point. Try investigating other evaluation techniques!\n",
    "from sklearn.cross_validation import train_test_split\n",
    "features_train, features_test, labels_train, labels_test = \\\n",
    "    train_test_split(features, labels, test_size=0.3, random_state=42)\n",
    "'''\n",
    "\n",
    "\n",
    "\n",
    "\n",
    "# Pipeline Steps\n",
    "\n",
    "if True:\n",
    "    steps = [\n",
    "             ('SKBfeature',SelectKBest()),\n",
    "             ('RFclf',RandomForestClassifier(class_weight ='balanced_subsample') )]\n",
    "    \n",
    "if False:\n",
    "    steps = [\n",
    "             ('PCAfeature',PCA()),\n",
    "             ('RFclf',RandomForestClassifier(class_weight ='balanced_subsample') )]\n",
    "\n",
    "if False:\n",
    "    steps = [\n",
    "             ('RFclf',RandomForestClassifier( ) ) ]\n",
    "\n",
    "\n",
    "pipeline = Pipeline(steps)\n",
    "\n",
    "\n",
    "\n",
    "# Input Parameters\n",
    "\n",
    "if True:\n",
    "    parameters = dict(SKBfeature__k = [2,4,6],\n",
    "                      RFclf__n_estimators = [20,30,40],\n",
    "                      RFclf__max_depth = [3,5,7]                  \n",
    "                     )\n",
    "\n",
    "    \n",
    "if False:\n",
    "    parameters = dict(PCAfeature__n_components = [2,4],\n",
    "                      RFclf__n_estimators = [10,20,50],\n",
    "                      RFclf__max_depth = [3,5]                  \n",
    "                     )\n",
    "\n",
    "if False:\n",
    "    parameters = dict(\n",
    "                      RFclf__n_estimators = [10,20,30],\n",
    "                      RFclf__max_depth = [3]                  \n",
    "                     )\n",
    "\n",
    "\n",
    "# Cross Validator\n",
    "cross_validator = StratifiedShuffleSplit(labels_train,100, random_state = 42)\n",
    "\n",
    "# Call Gridsearch\n",
    "cv1 = GridSearchCV(pipeline,  param_grid=parameters, cv = cross_validator, scoring='f1', verbose=1)\n",
    "\n",
    "print cv1\n",
    "\n",
    "#cv1.fit(all_features, all_labels) # Label_train does not accept 2d array, so it had to be 'flattened'\n",
    "\n",
    "cv1.fit(features_train, labels_train)\n",
    "\n",
    "pred = cv1.predict(features_test)\n",
    "\n",
    "\n",
    "print zip(pred, labels_test)\n",
    "#########################################################\n",
    "# Print accuracy #\n",
    "print 'Accuracy: %.2f' % (float(sum(1 for ii in range(0, len(labels_test)) if labels_test[ii]==pred[ii]))/float(len(labels_test)))\n",
    "\n",
    "# Print f1\n",
    "print 'f1: %.2f' % (metrics.f1_score(labels_test,pred))\n",
    "\n",
    "# Print precision\n",
    "print 'Precision: %.2f' % (precision_score(labels_test,pred))\n",
    "\n",
    "# Print recall\n",
    "print 'Recall: %.2f' % (recall_score(labels_test,pred))\n",
    "\n"
   ]
  },
  {
   "cell_type": "markdown",
   "metadata": {},
   "source": [
    "\n",
    "### 7. Save datasets, classifier and features list into .pkl files\n",
    "\n",
    "Extract the best combinaiton of parameters."
   ]
  },
  {
   "cell_type": "code",
   "execution_count": 42,
   "metadata": {
    "collapsed": false
   },
   "outputs": [
    {
     "name": "stdout",
     "output_type": "stream",
     "text": [
      "estimator --------->\n",
      "Pipeline(memory=None,\n",
      "     steps=[('SKBfeature', SelectKBest(k=4, score_func=<function f_classif at 0x0000000009DC6C18>)), ('RFclf', RandomForestClassifier(bootstrap=True, class_weight='balanced_subsample',\n",
      "            criterion='gini', max_depth=3, max_features='auto',\n",
      "            max_leaf_nodes=None, min_impurity_decrease=0...imators=20, n_jobs=1, oob_score=False, random_state=None,\n",
      "            verbose=0, warm_start=False))])\n",
      "\n",
      "Selected K Features by Estimator and their scores ---------> \n",
      "[('exercised_stock_options', 9.9561675820785211), ('bonus', 30.652282305660439), ('shared_receipt_with_poi', 10.669737359602689), ('from_this_person_to_poi_pctof_from', 13.791413236761116)]\n"
     ]
    }
   ],
   "source": [
    "print 'estimator --------->'\n",
    "print cv1.best_estimator_\n",
    "fs = cv1.best_estimator_.named_steps['SKBfeature']\n",
    "#selected_features = fs.transform(numpy.reshape(features_list_updt,(1,len(features_list_updt))))\n",
    "\n",
    "\n",
    "feature_names = numpy.array(features_list_updt[1:])\n",
    "\n",
    "print\n",
    "print 'Selected K Features by Estimator and their scores ---------> '\n",
    "print zip(feature_names[fs.get_support()], fs.scores_[fs.get_support()])\n"
   ]
  },
  {
   "cell_type": "markdown",
   "metadata": {},
   "source": [
    "#### Dump classifier, dataset and features list into .pkl file"
   ]
  },
  {
   "cell_type": "code",
   "execution_count": 43,
   "metadata": {
    "collapsed": false
   },
   "outputs": [],
   "source": [
    "\n",
    "### Task 6: Dump your classifier, dataset, and features_list so anyone can\n",
    "### check your results. You do not need to change anything below, but make sure\n",
    "### that the version of poi_id.py that you submit can be run on its own and\n",
    "### generates the necessary .pkl files for validating your results.\n",
    "\n",
    "from tester import test_classifier\n",
    "dump_classifier_and_data(cv1.best_estimator_, d, features_list_updt)\n"
   ]
  }
 ],
 "metadata": {
  "anaconda-cloud": {},
  "kernelspec": {
   "display_name": "Python [default]",
   "language": "python",
   "name": "python2"
  },
  "language_info": {
   "codemirror_mode": {
    "name": "ipython",
    "version": 2
   },
   "file_extension": ".py",
   "mimetype": "text/x-python",
   "name": "python",
   "nbconvert_exporter": "python",
   "pygments_lexer": "ipython2",
   "version": "2.7.12"
  }
 },
 "nbformat": 4,
 "nbformat_minor": 1
}
